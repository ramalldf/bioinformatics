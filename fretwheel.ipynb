{
 "cells": [
  {
   "cell_type": "markdown",
   "metadata": {},
   "source": [
    "##In this file, I will be applying my matlab fretwheel code for ipython notebook!"
   ]
  },
  {
   "cell_type": "code",
   "execution_count": 7,
   "metadata": {
    "collapsed": false
   },
   "outputs": [
    {
     "name": "stdout",
     "output_type": "stream",
     "text": [
      "Populating the interactive namespace from numpy and matplotlib\n"
     ]
    },
    {
     "name": "stderr",
     "output_type": "stream",
     "text": [
      "WARNING: pylab import has clobbered these variables: ['imsave']\n",
      "`%matplotlib` prevents importing * from pylab and numpy\n"
     ]
    }
   ],
   "source": [
    "import PIL#Useful for loading and saving tiff images\n",
    "from PIL import Image\n",
    "import numpy as np#Essential library of math operations (including numpy arrays which will ~ matlab matrices)\n",
    "import skimage#Powerful library of operations for segmentation and transformations\n",
    "import matplotlib.pyplot as plt#Essential library for plotting\n",
    "import plotly#Library for making figures pretty \n",
    "%pylab inline\n",
    "#% is an example of an iPyNb magic function that allows us to show image in this same window (NOT a gui)"
   ]
  },
  {
   "cell_type": "markdown",
   "metadata": {},
   "source": [
    "First, I'll need to load my donor, fret, and acceptor files that have a common prefix.'"
   ]
  },
  {
   "cell_type": "code",
   "execution_count": 3,
   "metadata": {
    "collapsed": false
   },
   "outputs": [],
   "source": [
    "import numpy as np\n",
    "import matplotlib.pyplot as plt"
   ]
  },
  {
   "cell_type": "code",
   "execution_count": 4,
   "metadata": {
    "collapsed": false
   },
   "outputs": [],
   "source": [
    "# Make sure to have both this file in the same directory but also the tifffile.c file for faster loading\n",
    "import tifffile as tif\n"
   ]
  },
  {
   "cell_type": "code",
   "execution_count": 9,
   "metadata": {
    "collapsed": false
   },
   "outputs": [
    {
     "name": "stdout",
     "output_type": "stream",
     "text": [
      "Label for written file: cell7\n"
     ]
    }
   ],
   "source": [
    "labelEFF= raw_input('Label for written file: ')#Prefix for set of data\n",
    "\n",
    "#Load image stacks for each channel\n",
    "donorStack= tif.imread(labelEFF+'Cropbleachdonor.tif')\n",
    "fretStack= tif.imread(labelEFF+'Cropbleachfret.tif')\n",
    "acceptorStack= tif.imread(labelEFF+'Cropbleachacceptor.tif')\n",
    "\n",
    "#Will make the window interactive so that we can use ginput to select points\n",
    "%matplotlib qt \n",
    "plt.imshow(acceptorStack[0], vmin= 0, vmax= 1000)\n",
    "plt.show()#Equivalent to 'hold on' in Matlab, allows you plot on top of current figure"
   ]
  },
  {
   "cell_type": "code",
   "execution_count": 10,
   "metadata": {
    "collapsed": false
   },
   "outputs": [
    {
     "name": "stderr",
     "output_type": "stream",
     "text": [
      "c:\\Users\\D\\Anaconda\\lib\\site-packages\\matplotlib\\backend_bases.py:2399: MatplotlibDeprecationWarning:\n",
      "\n",
      "Using default event loop until function specific to this GUI is implemented\n",
      "\n"
     ]
    }
   ],
   "source": [
    "#Select background area\n",
    "coords= ginput()"
   ]
  },
  {
   "cell_type": "code",
   "execution_count": 11,
   "metadata": {
    "collapsed": false
   },
   "outputs": [
    {
     "name": "stdout",
     "output_type": "stream",
     "text": [
      "267.0 186.0\n"
     ]
    }
   ],
   "source": [
    "#Round coordinates\n",
    "x= round(coords[0][0])\n",
    "y= round(coords[0][1])\n",
    "print x,y"
   ]
  },
  {
   "cell_type": "code",
   "execution_count": 140,
   "metadata": {
    "collapsed": false
   },
   "outputs": [],
   "source": [
    "# Below is an optional code to test the position of your window \n",
    "# plt.plot(x,y,'o',color= 'white')\n",
    "# plt.plot(x-100,y-100,'ro', color= 'red')\n",
    "# plt.plot(x+100,y+100,'ro', color= 'red')\n",
    "# plt.plot(x-100,y+100,'ro', color= 'red')\n",
    "# plt.plot(x+100,y-100,'ro', color= 'red')\n"
   ]
  },
  {
   "cell_type": "code",
   "execution_count": 15,
   "metadata": {
    "collapsed": false,
    "scrolled": false
   },
   "outputs": [
    {
     "name": "stdout",
     "output_type": "stream",
     "text": [
      "131.483523525 159.669636587 169.59705934\n"
     ]
    }
   ],
   "source": [
    "#Now we'll take the average background from each channel in 20x20 window\n",
    "#Make sure to list submatrix as [yStart:yEnd,xStart:xEnd]\n",
    "donorBack= mean(donorStack[y-10:y+10,x-10:x+10])\n",
    "fretBack= mean(fretStack[y-10:y+10,x-10:x+10])\n",
    "acceptorBack= mean(acceptorStack[y-10:y+10,x-10:x+10])\n",
    "\n",
    "print donorBack, fretBack, acceptorBack#Doublecheck values are reasonable\n"
   ]
  },
  {
   "cell_type": "code",
   "execution_count": 13,
   "metadata": {
    "collapsed": false
   },
   "outputs": [],
   "source": [
    "#Now we'll define bleed-through values (characteristic for your scope, collected previously)\n",
    "btdonor= 0.6072;#40x air updated 1/21/15\n",
    "btacceptor= 0.0437\n"
   ]
  },
  {
   "cell_type": "code",
   "execution_count": 18,
   "metadata": {
    "collapsed": false
   },
   "outputs": [
    {
     "name": "stdout",
     "output_type": "stream",
     "text": [
      "Time to calculate and write files:  4.46899986267\n"
     ]
    }
   ],
   "source": [
    "import time\n",
    "from tifffile import imsave\n",
    "\n",
    "t0 = time.time()\n",
    "for i in range(0,len(acceptorStack)-1):#Loop through stack for each channel\n",
    "    donor= donorStack[i]\n",
    "    fret= fretStack[i]\n",
    "    acceptor= acceptorStack[i]\n",
    "    \n",
    "    donor= donor-donorBack#Background subtraction\n",
    "    fret= fret-fretBack\n",
    "    acceptor= acceptor-acceptorBack\n",
    "    \n",
    "    #Convert datatypes to doubles so we can get decimals from division\n",
    "    donor= np.double(donor); fret= np.double(fret); acceptor= np.double(acceptor);\n",
    "    fretcorrected= fret - donor*(btdonor) - acceptor*(btacceptor)#Bleedthrough correction for donor and acceptor channels.\n",
    "    \n",
    "    donor[donor<0]= nan#Threshold negative values (don't make sense)\n",
    "    fret[fret<=0]= nan\n",
    "    acceptor[acceptor<=0]= nan\n",
    "    \n",
    "    #Below we calculate FRET efficiency and threshold values by using the acceptor channel image as a reference\n",
    "    efficiency= 100*(fretcorrected/(fretcorrected+donor));\n",
    "    acceptorMask= acceptor<200#Threshold: acceptor pixels less than 100\n",
    "    maskEff= efficiency#Initialize matrix\n",
    "    maskEff[acceptorMask]= nan#At acceptorMask indices where intensity<100, turn to nan\n",
    "    \n",
    "    #This part of the code in Matlab assembled a structure with all parameters\n",
    "    maskEff2= np.uint16(maskEff)#Convert data back into uint16 format to write a uint16 file\n",
    "    imsave('python_write'+str(i)+'.tif',maskEff2)\n",
    "    \n",
    "    #saveFile= Image.fromarray(maskEff2, mode = 'I;16')#Convert to format Image.fromarray can recognize\n",
    "    #saveFile.save('test_write.tif')#Write uint16 file :\n",
    "\n",
    "    #saveFile.save('test_write.tif',saveeFile)#Write uint16 file :\n",
    "\n",
    "\n",
    "t1= time.time()\n",
    "total= t1-t0\n",
    "print 'Time to calculate and write files: ', total"
   ]
  },
  {
   "cell_type": "markdown",
   "metadata": {
    "collapsed": false
   },
   "source": [
    "###Check the directory, although I couldn't get the files to write to a stack they're all there! The values are reasonable and match the Matlab output pretty well. In addition, this last for loop took us ~6.1 s to run whereas it took Matlab about 20s (after stripping .m file to make it comparable in tasks)! One final thing that I need to check is the thresholding because the data look cleaner in matlab (fewer speckles).\n",
    "\n",
    "###Aside from that, it looks like fretwheel.py is a faster version of fretwheel.m :)"
   ]
  },
  {
   "cell_type": "code",
   "execution_count": 17,
   "metadata": {
    "collapsed": false
   },
   "outputs": [
    {
     "name": "stdout",
     "output_type": "stream",
     "text": [
      "Variable        Type        Data/Info\n",
      "-------------------------------------\n",
      "Image           module      <module 'PIL.Image' from <...>-packages\\PIL\\Image.pyc'>\n",
      "PIL             module      <module 'PIL' from 'c:\\Us<...>ckages\\PIL\\__init__.pyc'>\n",
      "acceptor        ndarray     422Lx356L: 150232 elems, type `float64`, 1201856 bytes (1 Mb)\n",
      "acceptorBack    float64     169.59705934\n",
      "acceptorMask    ndarray     422Lx356L: 150232 elems, type `bool`, 150232 bytes (146 kb)\n",
      "acceptorStack   ndarray     192Lx422Lx356L: 28844544 elems, type `uint16`, 57689088 bytes (55 Mb)\n",
      "btacceptor      float       0.0437\n",
      "btdonor         float       0.6072\n",
      "coords          list        n=1\n",
      "donor           ndarray     422Lx356L: 150232 elems, type `float64`, 1201856 bytes (1 Mb)\n",
      "donorBack       float64     131.483523525\n",
      "donorStack      ndarray     192Lx422Lx356L: 28844544 elems, type `uint16`, 57689088 bytes (55 Mb)\n",
      "efficiency      ndarray     422Lx356L: 150232 elems, type `float64`, 1201856 bytes (1 Mb)\n",
      "fret            ndarray     422Lx356L: 150232 elems, type `float64`, 1201856 bytes (1 Mb)\n",
      "fretBack        float64     159.669636587\n",
      "fretStack       ndarray     192Lx422Lx356L: 28844544 elems, type `uint16`, 57689088 bytes (55 Mb)\n",
      "fretcorrected   ndarray     422Lx356L: 150232 elems, type `float64`, 1201856 bytes (1 Mb)\n",
      "i               int         190\n",
      "imsave          function    <function imsave at 0x0000000004032978>\n",
      "labelEFF        str         cell7\n",
      "maskEff         ndarray     422Lx356L: 150232 elems, type `float64`, 1201856 bytes (1 Mb)\n",
      "maskEff2        ndarray     422Lx356L: 150232 elems, type `uint16`, 300464 bytes (293 kb)\n",
      "plotly          module      <module 'plotly' from 'c:<...>ges\\plotly\\__init__.pyc'>\n",
      "skimage         module      <module 'skimage' from 'c<...>es\\skimage\\__init__.pyc'>\n",
      "t0              float       1443909982.21\n",
      "t1              float       1443909988.07\n",
      "tif             module      <module 'tifffile' from 'tifffile.pyc'>\n",
      "time            module      <module 'time' (built-in)>\n",
      "total           float       5.85899996758\n",
      "x               float       267.0\n",
      "y               float       186.0\n"
     ]
    }
   ],
   "source": [
    "%whos"
   ]
  },
  {
   "cell_type": "code",
   "execution_count": 19,
   "metadata": {
    "collapsed": false
   },
   "outputs": [
    {
     "data": {
      "text/plain": [
       "<matplotlib.colorbar.Colorbar instance at 0x000000000D8A3708>"
      ]
     },
     "execution_count": 19,
     "metadata": {},
     "output_type": "execute_result"
    }
   ],
   "source": [
    "plt.colorbar()"
   ]
  },
  {
   "cell_type": "code",
   "execution_count": null,
   "metadata": {
    "collapsed": true
   },
   "outputs": [],
   "source": []
  }
 ],
 "metadata": {
  "kernelspec": {
   "display_name": "Python 2",
   "language": "python",
   "name": "python2"
  },
  "language_info": {
   "codemirror_mode": {
    "name": "ipython",
    "version": 2
   },
   "file_extension": ".py",
   "mimetype": "text/x-python",
   "name": "python",
   "nbconvert_exporter": "python",
   "pygments_lexer": "ipython2",
   "version": "2.7.10"
  }
 },
 "nbformat": 4,
 "nbformat_minor": 0
}
