{
 "cells": [
  {
   "cell_type": "markdown",
   "metadata": {},
   "source": [
    "##In this file I will be applying my matlab fretwheel code for the ipython notebook.\n",
    "\n",
    "####I haven't defined all the functions I used in Matlab in Python yet so for this exercise I'll go through every step without using too many of my own functions."
   ]
  },
  {
   "cell_type": "code",
   "execution_count": 2,
   "metadata": {
    "collapsed": false
   },
   "outputs": [
    {
     "name": "stderr",
     "output_type": "stream",
     "text": [
      "tifffile.py:246: UserWarning: failed to import the optional _tifffile C extension module.\n",
      "Loading of some compressed images will be very slow.\n",
      "Tifffile.c can be obtained at http://www.lfd.uci.edu/~gohlke/\n",
      "  \"failed to import the optional _tifffile C extension module.\\n\"\n"
     ]
    }
   ],
   "source": [
    "import numpy as np#Essential library of math operations (including numpy arrays, ~ matlab matrices)\n",
    "import matplotlib.pyplot as plt#Essential library for plotting\n",
    "import tifffile as tif# Importing this with the tifffile.c file results in faster loading (still very fast without it)"
   ]
  },
  {
   "cell_type": "markdown",
   "metadata": {},
   "source": [
    "First, I'll need to load my donor, fret, and acceptor files that have a common prefix."
   ]
  },
  {
   "cell_type": "code",
   "execution_count": 3,
   "metadata": {
    "collapsed": false
   },
   "outputs": [
    {
     "name": "stdout",
     "output_type": "stream",
     "text": [
      "Label for written file: cell7\n"
     ]
    }
   ],
   "source": [
    "labelEFF= raw_input('Label for written file: ')#Prefix for set of data\n",
    "\n",
    "#Load image stacks for each channel\n",
    "donorStack= tif.imread(labelEFF+'Cropbleachdonor.tif')\n",
    "fretStack= tif.imread(labelEFF+'Cropbleachfret.tif')\n",
    "acceptorStack= tif.imread(labelEFF+'Cropbleachacceptor.tif')\n",
    "\n",
    "#Will make the window interactive so that we can use ginput to select points\n",
    "%matplotlib qt \n",
    "plt.imshow(acceptorStack[0], vmin= 0, vmax= 1000)\n",
    "plt.show()#Equivalent to 'hold on' in Matlab, allows you plot on top of current figure"
   ]
  },
  {
   "cell_type": "code",
   "execution_count": 4,
   "metadata": {
    "collapsed": false
   },
   "outputs": [
    {
     "name": "stderr",
     "output_type": "stream",
     "text": [
      "c:\\Users\\D\\Anaconda\\lib\\site-packages\\matplotlib\\backend_bases.py:2399: MatplotlibDeprecationWarning: Using default event loop until function specific to this GUI is implemented\n",
      "  warnings.warn(str, mplDeprecation)\n"
     ]
    }
   ],
   "source": [
    "#Select background area from image\n",
    "coords= plt.ginput()"
   ]
  },
  {
   "cell_type": "code",
   "execution_count": 5,
   "metadata": {
    "collapsed": false
   },
   "outputs": [
    {
     "name": "stdout",
     "output_type": "stream",
     "text": [
      "294.0 204.0\n"
     ]
    }
   ],
   "source": [
    "#Round coordinates\n",
    "x= round(coords[0][0])\n",
    "y= round(coords[0][1])\n",
    "print x,y"
   ]
  },
  {
   "cell_type": "code",
   "execution_count": 22,
   "metadata": {
    "collapsed": false
   },
   "outputs": [],
   "source": [
    "#Below are optional lines to check that you selected correct location (plots the position of your center/window).\n",
    "# plt.plot(x,y,'o',color= 'white')\n",
    "# plt.plot(x-10,y-10,'ro', color= 'red')\n",
    "# plt.plot(x+10,y+10,'ro', color= 'red')\n",
    "# plt.plot(x-10,y+10,'ro', color= 'red')\n",
    "# plt.plot(x+10,y-10,'ro', color= 'red')\n",
    "\n",
    "#Use first image for each channel to measure background at those coordinates\n",
    "donor0= donorStack[0]\n",
    "fret0= fretStack[0]\n",
    "acceptor0= acceptorStack[0]"
   ]
  },
  {
   "cell_type": "code",
   "execution_count": 7,
   "metadata": {
    "collapsed": false,
    "scrolled": true
   },
   "outputs": [
    {
     "name": "stdout",
     "output_type": "stream",
     "text": [
      "119.595 143.19 115.0475\n"
     ]
    }
   ],
   "source": [
    "#Now we'll take the average background from each channel in 21x21 window\n",
    "#Make sure to list submatrix as [yStart:yEnd,xStart:xEnd] cause its [rows,cols]\n",
    "#Note: mean() without np. should work but it's been giving me errors\n",
    "donorBack= np.mean(donor0[y-10:y+10,x-10:x+10])\n",
    "fretBack= np.mean(fret0[y-10:y+10,x-10:x+10])\n",
    "acceptorBack= np.mean(acceptor0[y-10:y+10,x-10:x+10])\n",
    "\n",
    "print donorBack, fretBack, acceptorBack#Doublecheck values are reasonable\n"
   ]
  },
  {
   "cell_type": "code",
   "execution_count": 23,
   "metadata": {
    "collapsed": false
   },
   "outputs": [],
   "source": [
    "#Now we'll define bleed-through values (characteristic for your scope, collected previously)\n",
    "btdonor= 0.6072;#40x air updated 1/21/15\n",
    "btacceptor= 0.0437"
   ]
  },
  {
   "cell_type": "markdown",
   "metadata": {},
   "source": [
    "###Now we'll load all raw images for each timepoint, background subtract, bleed-through correct, calculate FRET efficiency, clean up image and write files to the directory."
   ]
  },
  {
   "cell_type": "code",
   "execution_count": 9,
   "metadata": {
    "collapsed": false,
    "scrolled": true
   },
   "outputs": [
    {
     "name": "stdout",
     "output_type": "stream",
     "text": [
      "Time to calculate and write files:  5.56299996376\n"
     ]
    },
    {
     "name": "stderr",
     "output_type": "stream",
     "text": [
      "c:\\Users\\D\\Anaconda\\lib\\site-packages\\IPython\\kernel\\__main__.py:25: RuntimeWarning: invalid value encountered in greater\n"
     ]
    }
   ],
   "source": [
    "import time\n",
    "from tifffile import imsave\n",
    "\n",
    "t0 = time.time()\n",
    "for i in range(0,len(acceptorStack)):#Loop through image stack for each channel\n",
    "    donor= donorStack[i]\n",
    "    fret= fretStack[i]\n",
    "    acceptor= acceptorStack[i]\n",
    "    \n",
    "    donor= donor-donorBack#Background subtraction\n",
    "    fret= fret-fretBack\n",
    "    acceptor= acceptor-acceptorBack\n",
    "    \n",
    "    #Convert datatypes to doubles so we can get decimals from division\n",
    "    donor= np.double(donor); fret= np.double(fret); acceptor= np.double(acceptor);\n",
    "    fretcorrected= fret - donor*(btdonor) - acceptor*(btacceptor)#Bleedthrough correction for donor and acceptor channels.\n",
    "    \n",
    "    #Note: In an earlier version of the script I could just write donor[donor<0] = nan but now it says 'nan' is not defined...so:\n",
    "    donor[donor<0]= float('nan')#Threshold negative values \n",
    "    fret[fret<=0]= float('nan')\n",
    "    acceptor[acceptor<=0]= float('nan')\n",
    "    \n",
    "    #Below we calculate FRET efficiency and threshold values by using the acceptor channel image as a reference\n",
    "    efficiency= 100*(fretcorrected/(fretcorrected+donor));\n",
    "    acceptorMask= acceptor>100#Threshold, results in boolean matrix\n",
    "    maskEff= efficiency*acceptorMask#Anything \n",
    "    #maskEff[acceptorMask]= float('nan')#At acceptorMask indices where intensity<threshold, turn to nan\n",
    "    \n",
    "    #This part of the code in Matlab assembled a structure with all parameters\n",
    "    maskEff2= np.uint16(maskEff)#Convert data back into uint16 format to write a uint16 file\n",
    "    imsave('python_writeRedo2'+str(i)+'.tif',maskEff2)\n",
    "    \n",
    "t1= time.time()\n",
    "total= t1-t0\n",
    "print 'Time to calculate and write files: ', total"
   ]
  },
  {
   "cell_type": "markdown",
   "metadata": {
    "collapsed": false
   },
   "source": [
    "###### Check the directory, the although tifffile module couldn't write files to a stack, all the timepoints are there. The values are reasonable and match the Matlab output pretty well. In addition, this last for loop took us ~4-6 s to run whereas it took Matlab about 20s (after stripping .m file to make it comparable in tasks). \n",
    "\n",
    "###It looks like fretwheel.py is a faster version of fretwheel.m ."
   ]
  },
  {
   "cell_type": "code",
   "execution_count": 21,
   "metadata": {
    "collapsed": false
   },
   "outputs": [
    {
     "data": {
      "text/plain": [
       "<matplotlib.text.Text at 0xdbf4b38>"
      ]
     },
     "execution_count": 21,
     "metadata": {},
     "output_type": "execute_result"
    },
    {
     "data": {
      "image/png": "[encoded data removed]",
      "text/plain": [
       "<matplotlib.figure.Figure at 0xa238400>"
      ]
     },
     "metadata": {},
     "output_type": "display_data"
    }
   ],
   "source": [
    "#Here are sample images of the last timepoint of acceptor channel image vs mask vs fret efficiency image\n",
    "\n",
    "%matplotlib inline\n",
    "plt.subplot(1,3,1)\n",
    "plt.imshow(np.uint16(acceptor))\n",
    "\n",
    "plt.title('Acceptor ')\n",
    "\n",
    "\n",
    "plt.subplot(1,3,2)\n",
    "plt.imshow(acceptorMask)\n",
    "plt.title('Binary Mask')\n",
    "\n",
    "plt.subplot(1,3,3)\n",
    "plt.imshow(maskEff2, vmin= 0, vmax= 75)\n",
    "plt.title('FRET Efficiency map')\n",
    "\n"
   ]
  },
  {
   "cell_type": "code",
   "execution_count": null,
   "metadata": {
    "collapsed": true
   },
   "outputs": [],
   "source": []
  }
 ],
 "metadata": {
  "kernelspec": {
   "display_name": "Python 2",
   "language": "python",
   "name": "python2"
  },
  "language_info": {
   "codemirror_mode": {
    "name": "ipython",
    "version": 2
   },
   "file_extension": ".py",
   "mimetype": "text/x-python",
   "name": "python",
   "nbconvert_exporter": "python",
   "pygments_lexer": "ipython2",
   "version": "2.7.10"
  }
 },
 "nbformat": 4,
 "nbformat_minor": 0
}
