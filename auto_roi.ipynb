{
 "cells": [
  {
   "cell_type": "markdown",
   "metadata": {},
   "source": [
    "###This code will allow you to make batch roi measurements from given image files (.tif) and ROI coordinates (.txt files). The ROI coordinate files are in the format exported by ImageJ's xy_coordinates plugin. The advantages of using this are:\n",
    "####1)You use a median measurement, which is more flexible for non-normal distribution of measurements. 2) You ignore 0 and nan pixels in your measurement since they can often influence distribution significantly even though they're mostly due to background."
   ]
  },
  {
   "cell_type": "code",
   "execution_count": 24,
   "metadata": {
    "collapsed": false
   },
   "outputs": [],
   "source": [
    "import numpy as np#Essential library of math operations (including numpy arrays, ~ matlab matrices)\n",
    "from numpy import nan\n",
    "import matplotlib.pyplot as plt#Essential library for plotting\n",
    "import tifffile as tif# Importing this with the tifffile.c file results in faster loading (still very fast without it)\n",
    "import os\n",
    "#Get list of coordinates from a sample file\n",
    "from numpy import genfromtxt\n",
    "from skimage.draw import polygon\n",
    "\n",
    "%matplotlib inline"
   ]
  },
  {
   "cell_type": "code",
   "execution_count": 2,
   "metadata": {
    "collapsed": true
   },
   "outputs": [],
   "source": [
    "files= os.listdir(os.getcwd())#List all files in directory"
   ]
  },
  {
   "cell_type": "code",
   "execution_count": 3,
   "metadata": {
    "collapsed": true
   },
   "outputs": [],
   "source": [
    "#Make list of all correct image filenames\n",
    "images= [i for i in files if i.startswith(\"cell\") and i.endswith(\".tif\")]# List comprehension to filter image and coord files, woohoo!\n",
    "coordinates= [i for i in files if i.startswith(\"cell\") and i.endswith(\".txt\")]"
   ]
  },
  {
   "cell_type": "code",
   "execution_count": 4,
   "metadata": {
    "collapsed": false
   },
   "outputs": [
    {
     "name": "stdout",
     "output_type": "stream",
     "text": [
      "Using image file:  cell1\n",
      "Using cell1_cell1.txt\n",
      "Using cell1_cell2.txt\n",
      "Using cell1_cell3.txt\n",
      "Using cell1_cell4.txt\n",
      "cell2_cell1.txt Is not part of image:  cell1\n",
      "cell2_cell2.txt Is not part of image:  cell1\n",
      "cell2_cell3.txt Is not part of image:  cell1\n",
      "cell3_cell1.txt Is not part of image:  cell1\n",
      "cell3_cell2.txt Is not part of image:  cell1\n",
      "cell4_cell1.txt Is not part of image:  cell1\n",
      "cell4_cell2.txt Is not part of image:  cell1\n",
      "Using image file:  cell2\n",
      "cell1_cell1.txt Is not part of image:  cell2\n",
      "cell1_cell2.txt Is not part of image:  cell2\n",
      "cell1_cell3.txt Is not part of image:  cell2\n",
      "cell1_cell4.txt Is not part of image:  cell2\n",
      "Using cell2_cell1.txt\n",
      "Using cell2_cell2.txt\n",
      "Using cell2_cell3.txt\n",
      "cell3_cell1.txt Is not part of image:  cell2\n",
      "cell3_cell2.txt Is not part of image:  cell2\n",
      "cell4_cell1.txt Is not part of image:  cell2\n",
      "cell4_cell2.txt Is not part of image:  cell2\n",
      "Using image file:  cell3\n",
      "cell1_cell1.txt Is not part of image:  cell3\n",
      "cell1_cell2.txt Is not part of image:  cell3\n",
      "cell1_cell3.txt Is not part of image:  cell3\n",
      "cell1_cell4.txt Is not part of image:  cell3\n",
      "cell2_cell1.txt Is not part of image:  cell3\n",
      "cell2_cell2.txt Is not part of image:  cell3\n",
      "cell2_cell3.txt Is not part of image:  cell3\n",
      "Using cell3_cell1.txt\n",
      "Using cell3_cell2.txt\n",
      "cell4_cell1.txt Is not part of image:  cell3\n",
      "cell4_cell2.txt Is not part of image:  cell3\n",
      "Using image file:  cell4\n",
      "cell1_cell1.txt Is not part of image:  cell4\n",
      "cell1_cell2.txt Is not part of image:  cell4\n",
      "cell1_cell3.txt Is not part of image:  cell4\n",
      "cell1_cell4.txt Is not part of image:  cell4\n",
      "cell2_cell1.txt Is not part of image:  cell4\n",
      "cell2_cell2.txt Is not part of image:  cell4\n",
      "cell2_cell3.txt Is not part of image:  cell4\n",
      "cell3_cell1.txt Is not part of image:  cell4\n",
      "cell3_cell2.txt Is not part of image:  cell4\n",
      "Using cell4_cell1.txt\n",
      "Using cell4_cell2.txt\n",
      "Median values:  [39.0, 39.0, 39.0, 39.0, 40.0, 39.0, 39.0, 40.0, 44.0, 37.0, 41.0]\n"
     ]
    }
   ],
   "source": [
    "#Ok, now we'll iterate through all the FRET images, use the ROi coordinates to make measurements\n",
    "#and then move on to the next file\n",
    "names= []#Initialize list of names of images iterated through\n",
    "measurements= []#Initialize measurements\n",
    "for i in range(0,len(images)):#Iterate through list of images from above\n",
    "    cell_index= 'cell'+str(i+1)#List name of item in list\n",
    "    print 'Using image file: ', cell_index\n",
    "    names.append(cell_index)#Add this name to list of completed\n",
    "    stack= tif.imread(images[i])#Open image\n",
    "    for j in range(0,len(coordinates)):#Now we'll iterate through available coordinate files for each image\n",
    "        roi= coordinates[j]#Pulls out NAME of first item in coordinates\n",
    "        if roi.startswith(cell_index):#Check for coord files. By focusing on cell_index prefix, assure only focuses on file at hand\n",
    "            print 'Using',roi#If found, mention that you're using it\n",
    "            my_data = genfromtxt(roi)#Load coordinate file using name of file\n",
    "            y= my_data[0:,0]#Take x coordinates\n",
    "            x= my_data[0:,1]#Take y coordinates\n",
    "            mask= np.zeros(stack.shape, dtype=np.uint8)#Initialize empty mask of same shape as image file\n",
    "            rr,cc= polygon(x,y)#Find indeces for pixels inside boudary area\n",
    "            mask[rr,cc]= 1#Using these indeces, fill in mask with 1's at those positions\n",
    "            #plt.imshow(mask)\n",
    "            test2= stack\n",
    "            test3= test2*mask\n",
    "            test4= np.double(test3)\n",
    "            test4[test4==0] = nan\n",
    "            measurements.append(np.nanmedian(test4))\n",
    "        else:\n",
    "            print roi, 'Is not part of image: ', cell_index\n",
    "print 'Median values: ', measurements"
   ]
  },
  {
   "cell_type": "code",
   "execution_count": 8,
   "metadata": {
    "collapsed": false
   },
   "outputs": [
    {
     "name": "stdout",
     "output_type": "stream",
     "text": [
      "Median measurements:  [39.0, 39.0, 39.0, 39.0, 40.0, 39.0, 39.0, 40.0, 44.0, 37.0, 41.0]\n"
     ]
    },
    {
     "data": {
      "text/plain": [
       "(array([ 1.,  0.,  6.,  0.,  2.,  1.,  0.,  0.,  0.,  1.]),\n",
       " array([ 37. ,  37.7,  38.4,  39.1,  39.8,  40.5,  41.2,  41.9,  42.6,\n",
       "         43.3,  44. ]),\n",
       " <a list of 10 Patch objects>)"
      ]
     },
     "execution_count": 8,
     "metadata": {},
     "output_type": "execute_result"
    },
    {
     "data": {
      "image/png": "[encoded data removed]",
      "text/plain": [
       "<matplotlib.figure.Figure at 0x17eff358>"
      ]
     },
     "metadata": {},
     "output_type": "display_data"
    }
   ],
   "source": [
    "print 'Median measurements: ', measurements\n",
    "plt.hist(measurements)#Histogram of all measurements"
   ]
  },
  {
   "cell_type": "code",
   "execution_count": 23,
   "metadata": {
    "collapsed": false
   },
   "outputs": [
    {
     "data": {
      "text/plain": [
       "<matplotlib.text.Text at 0x23d70630>"
      ]
     },
     "execution_count": 23,
     "metadata": {},
     "output_type": "execute_result"
    },
    {
     "data": {
      "image/png": "[encoded data removed]",
      "text/plain": [
       "<matplotlib.figure.Figure at 0x23b925c0>"
      ]
     },
     "metadata": {},
     "output_type": "display_data"
    }
   ],
   "source": [
    "#Plotting three figures to make sure measurements were performed on correct ROI (should be last .txt file)\n",
    "plt.subplot(1,3,1)\n",
    "plt.imshow(stack, vmin= 0, vmax= 75)\n",
    "\n",
    "plt.title('Raw Image ')\n",
    "\n",
    "\n",
    "plt.subplot(1,3,2)\n",
    "plt.imshow(mask)\n",
    "plt.title('ROI Mask')\n",
    "\n",
    "plt.subplot(1,3,3)\n",
    "plt.imshow(test3, vmin= 0, vmax= 75)\n",
    "plt.title('Masked Image')"
   ]
  },
  {
   "cell_type": "code",
   "execution_count": null,
   "metadata": {
    "collapsed": true
   },
   "outputs": [],
   "source": []
  }
 ],
 "metadata": {
  "kernelspec": {
   "display_name": "Python 2",
   "language": "python",
   "name": "python2"
  },
  "language_info": {
   "codemirror_mode": {
    "name": "ipython",
    "version": 2
   },
   "file_extension": ".py",
   "mimetype": "text/x-python",
   "name": "python",
   "nbconvert_exporter": "python",
   "pygments_lexer": "ipython2",
   "version": "2.7.10"
  }
 },
 "nbformat": 4,
 "nbformat_minor": 0
}
